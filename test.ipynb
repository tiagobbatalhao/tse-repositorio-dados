{
 "cells": [
  {
   "cell_type": "code",
   "execution_count": 1,
   "metadata": {},
   "outputs": [],
   "source": [
    "import pandas\n",
    "import os\n",
    "import glob"
   ]
  },
  {
   "cell_type": "code",
   "execution_count": 2,
   "metadata": {},
   "outputs": [],
   "source": [
    "folder = os.path.expanduser('~/localdatalake/tse_refined')"
   ]
  },
  {
   "cell_type": "code",
   "execution_count": 3,
   "metadata": {},
   "outputs": [],
   "source": [
    "files = glob.glob(os.path.join(folder, 'votos', 'VotoSecaoDetalhe*.csv.gz'))"
   ]
  },
  {
   "cell_type": "code",
   "execution_count": 4,
   "metadata": {},
   "outputs": [],
   "source": [
    "df = pandas.concat((pandas.read_csv(x, sep=';') for x in files), ignore_index=True)"
   ]
  },
  {
   "cell_type": "code",
   "execution_count": 5,
   "metadata": {},
   "outputs": [
    {
     "name": "stdout",
     "output_type": "stream",
     "text": [
      "<class 'pandas.core.frame.DataFrame'>\n",
      "RangeIndex: 10854876 entries, 0 to 10854875\n",
      "Data columns (total 17 columns):\n",
      "Ano                     int64\n",
      "Turno                   int64\n",
      "Eleição_nome            object\n",
      "UF                      object\n",
      "UE                      object\n",
      "Cargo                   int64\n",
      "Município               int64\n",
      "Zona                    int64\n",
      "Votos_aptos             int64\n",
      "Votos_comparecimento    int64\n",
      "Votos_abstenções        int64\n",
      "Votos_nominais          int64\n",
      "Votos_brancos           int64\n",
      "Votos_nulos             int64\n",
      "Votos_legenda           int64\n",
      "Votos_pendentes         int64\n",
      "Seção                   int64\n",
      "dtypes: int64(14), object(3)\n",
      "memory usage: 1.4+ GB\n"
     ]
    }
   ],
   "source": [
    "df.info()"
   ]
  },
  {
   "cell_type": "code",
   "execution_count": 6,
   "metadata": {},
   "outputs": [
    {
     "data": {
      "text/html": [
       "<div>\n",
       "<style scoped>\n",
       "    .dataframe tbody tr th:only-of-type {\n",
       "        vertical-align: middle;\n",
       "    }\n",
       "\n",
       "    .dataframe tbody tr th {\n",
       "        vertical-align: top;\n",
       "    }\n",
       "\n",
       "    .dataframe thead th {\n",
       "        text-align: right;\n",
       "    }\n",
       "</style>\n",
       "<table border=\"1\" class=\"dataframe\">\n",
       "  <thead>\n",
       "    <tr style=\"text-align: right;\">\n",
       "      <th></th>\n",
       "      <th>Ano</th>\n",
       "      <th>Turno</th>\n",
       "      <th>Eleição_nome</th>\n",
       "      <th>UF</th>\n",
       "      <th>UE</th>\n",
       "      <th>Cargo</th>\n",
       "      <th>Município</th>\n",
       "      <th>Zona</th>\n",
       "      <th>Votos_aptos</th>\n",
       "      <th>Votos_comparecimento</th>\n",
       "      <th>Votos_abstenções</th>\n",
       "      <th>Votos_nominais</th>\n",
       "      <th>Votos_brancos</th>\n",
       "      <th>Votos_nulos</th>\n",
       "      <th>Votos_legenda</th>\n",
       "      <th>Votos_pendentes</th>\n",
       "      <th>Seção</th>\n",
       "    </tr>\n",
       "  </thead>\n",
       "  <tbody>\n",
       "    <tr>\n",
       "      <th>0</th>\n",
       "      <td>2012</td>\n",
       "      <td>1</td>\n",
       "      <td>ELEIÇÃO MUNICIPAL 2012</td>\n",
       "      <td>ES</td>\n",
       "      <td>56014</td>\n",
       "      <td>11</td>\n",
       "      <td>56014</td>\n",
       "      <td>8</td>\n",
       "      <td>359</td>\n",
       "      <td>289</td>\n",
       "      <td>70</td>\n",
       "      <td>266</td>\n",
       "      <td>8</td>\n",
       "      <td>15</td>\n",
       "      <td>0</td>\n",
       "      <td>0</td>\n",
       "      <td>1</td>\n",
       "    </tr>\n",
       "    <tr>\n",
       "      <th>1</th>\n",
       "      <td>2012</td>\n",
       "      <td>1</td>\n",
       "      <td>ELEIÇÃO MUNICIPAL 2012</td>\n",
       "      <td>ES</td>\n",
       "      <td>56014</td>\n",
       "      <td>13</td>\n",
       "      <td>56014</td>\n",
       "      <td>8</td>\n",
       "      <td>359</td>\n",
       "      <td>289</td>\n",
       "      <td>70</td>\n",
       "      <td>255</td>\n",
       "      <td>4</td>\n",
       "      <td>3</td>\n",
       "      <td>27</td>\n",
       "      <td>0</td>\n",
       "      <td>1</td>\n",
       "    </tr>\n",
       "    <tr>\n",
       "      <th>2</th>\n",
       "      <td>2012</td>\n",
       "      <td>1</td>\n",
       "      <td>ELEIÇÃO MUNICIPAL 2012</td>\n",
       "      <td>ES</td>\n",
       "      <td>56014</td>\n",
       "      <td>11</td>\n",
       "      <td>56014</td>\n",
       "      <td>8</td>\n",
       "      <td>364</td>\n",
       "      <td>277</td>\n",
       "      <td>87</td>\n",
       "      <td>260</td>\n",
       "      <td>7</td>\n",
       "      <td>10</td>\n",
       "      <td>0</td>\n",
       "      <td>0</td>\n",
       "      <td>2</td>\n",
       "    </tr>\n",
       "    <tr>\n",
       "      <th>3</th>\n",
       "      <td>2012</td>\n",
       "      <td>1</td>\n",
       "      <td>ELEIÇÃO MUNICIPAL 2012</td>\n",
       "      <td>ES</td>\n",
       "      <td>56014</td>\n",
       "      <td>13</td>\n",
       "      <td>56014</td>\n",
       "      <td>8</td>\n",
       "      <td>364</td>\n",
       "      <td>277</td>\n",
       "      <td>87</td>\n",
       "      <td>241</td>\n",
       "      <td>6</td>\n",
       "      <td>7</td>\n",
       "      <td>23</td>\n",
       "      <td>0</td>\n",
       "      <td>2</td>\n",
       "    </tr>\n",
       "    <tr>\n",
       "      <th>4</th>\n",
       "      <td>2012</td>\n",
       "      <td>1</td>\n",
       "      <td>ELEIÇÃO MUNICIPAL 2012</td>\n",
       "      <td>ES</td>\n",
       "      <td>56014</td>\n",
       "      <td>11</td>\n",
       "      <td>56014</td>\n",
       "      <td>8</td>\n",
       "      <td>360</td>\n",
       "      <td>287</td>\n",
       "      <td>73</td>\n",
       "      <td>271</td>\n",
       "      <td>3</td>\n",
       "      <td>13</td>\n",
       "      <td>0</td>\n",
       "      <td>0</td>\n",
       "      <td>3</td>\n",
       "    </tr>\n",
       "  </tbody>\n",
       "</table>\n",
       "</div>"
      ],
      "text/plain": [
       "    Ano  Turno            Eleição_nome  UF     UE  Cargo  Município  Zona  \\\n",
       "0  2012      1  ELEIÇÃO MUNICIPAL 2012  ES  56014     11      56014     8   \n",
       "1  2012      1  ELEIÇÃO MUNICIPAL 2012  ES  56014     13      56014     8   \n",
       "2  2012      1  ELEIÇÃO MUNICIPAL 2012  ES  56014     11      56014     8   \n",
       "3  2012      1  ELEIÇÃO MUNICIPAL 2012  ES  56014     13      56014     8   \n",
       "4  2012      1  ELEIÇÃO MUNICIPAL 2012  ES  56014     11      56014     8   \n",
       "\n",
       "   Votos_aptos  Votos_comparecimento  Votos_abstenções  Votos_nominais  \\\n",
       "0          359                   289                70             266   \n",
       "1          359                   289                70             255   \n",
       "2          364                   277                87             260   \n",
       "3          364                   277                87             241   \n",
       "4          360                   287                73             271   \n",
       "\n",
       "   Votos_brancos  Votos_nulos  Votos_legenda  Votos_pendentes  Seção  \n",
       "0              8           15              0                0      1  \n",
       "1              4            3             27                0      1  \n",
       "2              7           10              0                0      2  \n",
       "3              6            7             23                0      2  \n",
       "4              3           13              0                0      3  "
      ]
     },
     "execution_count": 6,
     "metadata": {},
     "output_type": "execute_result"
    }
   ],
   "source": [
    "df.head()"
   ]
  },
  {
   "cell_type": "code",
   "execution_count": 7,
   "metadata": {},
   "outputs": [
    {
     "data": {
      "text/plain": [
       "2008     818448\n",
       "2009        674\n",
       "2010    2456006\n",
       "2011        476\n",
       "2012     901271\n",
       "2014    2719583\n",
       "2016     956455\n",
       "2018    3001963\n",
       "Name: Ano, dtype: int64"
      ]
     },
     "execution_count": 7,
     "metadata": {},
     "output_type": "execute_result"
    }
   ],
   "source": [
    "df['Ano'].value_counts().sort_index()"
   ]
  },
  {
   "cell_type": "code",
   "execution_count": 8,
   "metadata": {},
   "outputs": [
    {
     "data": {
      "text/plain": [
       "ELEIÇÃO GERAL FEDERAL 2018         908898\n",
       "ELEIÇÃO MUNICIPAL 2012             901271\n",
       "ELEIÇÕES 2008                      811156\n",
       "ELEIÇÕES 2010                     2456006\n",
       "ELEIÇÕES GERAIS 2014              2719583\n",
       "ELEIÇÕES GERAIS ESTADUAIS 2018    2093065\n",
       "ELEIÇÕES MUNICIPAIS 2016           956455\n",
       "ELEIÇÕES SUPLEMENTARES                 78\n",
       "ELEIÇÕES SUPLEMENTARES 2008          7214\n",
       "PLEBISCITO                           1150\n",
       "Name: Eleição_nome, dtype: int64"
      ]
     },
     "execution_count": 8,
     "metadata": {},
     "output_type": "execute_result"
    }
   ],
   "source": [
    "df['Eleição_nome'].value_counts().sort_index()"
   ]
  },
  {
   "cell_type": "code",
   "execution_count": 9,
   "metadata": {},
   "outputs": [],
   "source": [
    "from sklearn.decomposition import PCA\n",
    "pca = PCA()"
   ]
  },
  {
   "cell_type": "code",
   "execution_count": 10,
   "metadata": {},
   "outputs": [],
   "source": [
    "cols = [x for x in df.columns if 'Votos' in x]\n",
    "for col in cols:\n",
    "    df = df[df[col]>=0]\n"
   ]
  },
  {
   "cell_type": "code",
   "execution_count": 44,
   "metadata": {},
   "outputs": [
    {
     "data": {
      "text/plain": [
       "PCA(copy=True, iterated_power='auto', n_components=None, random_state=None,\n",
       "    svd_solver='auto', tol=0.0, whiten=False)"
      ]
     },
     "execution_count": 44,
     "metadata": {},
     "output_type": "execute_result"
    }
   ],
   "source": [
    "pca.fit(df[df['Ano']>=2018][cols])"
   ]
  },
  {
   "cell_type": "code",
   "execution_count": 45,
   "metadata": {},
   "outputs": [
    {
     "name": "stdout",
     "output_type": "stream",
     "text": [
      "[7.33396061e-01 1.76233251e-01 4.67031807e-02 3.56054004e-02\n",
      " 5.48181239e-03 2.54203163e-03 3.82630794e-05 2.27997495e-32]\n"
     ]
    }
   ],
   "source": [
    "print(pca.explained_variance_ratio_)"
   ]
  },
  {
   "cell_type": "code",
   "execution_count": 46,
   "metadata": {},
   "outputs": [
    {
     "data": {
      "text/plain": [
       "array([0.73339606, 0.90962931, 0.95633249, 0.99193789, 0.99741971,\n",
       "       0.99996174, 1.        , 1.        ])"
      ]
     },
     "execution_count": 46,
     "metadata": {},
     "output_type": "execute_result"
    }
   ],
   "source": [
    "import numpy as np\n",
    "np.cumsum((pca.explained_variance_ratio_))"
   ]
  },
  {
   "cell_type": "code",
   "execution_count": 47,
   "metadata": {},
   "outputs": [
    {
     "data": {
      "text/plain": [
       "dict_keys(['n_components', 'copy', 'whiten', 'svd_solver', 'tol', 'iterated_power', 'random_state', '_fit_svd_solver', 'mean_', 'noise_variance_', 'n_samples_', 'n_features_', 'components_', 'n_components_', 'explained_variance_', 'explained_variance_ratio_', 'singular_values_'])"
      ]
     },
     "execution_count": 47,
     "metadata": {},
     "output_type": "execute_result"
    }
   ],
   "source": [
    "vars(pca).keys()"
   ]
  },
  {
   "cell_type": "code",
   "execution_count": 48,
   "metadata": {},
   "outputs": [
    {
     "data": {
      "text/plain": [
       "array([-5.77350269e-01,  5.77350269e-01,  5.77350269e-01,  0.00000000e+00,\n",
       "       -2.08166817e-17, -4.16333634e-17,  2.08166817e-17,  7.48438312e-18])"
      ]
     },
     "execution_count": 48,
     "metadata": {},
     "output_type": "execute_result"
    }
   ],
   "source": [
    "pca.components_[-1]"
   ]
  },
  {
   "cell_type": "code",
   "execution_count": 49,
   "metadata": {},
   "outputs": [
    {
     "data": {
      "text/plain": [
       "0    3001963\n",
       "dtype: int64"
      ]
     },
     "execution_count": 49,
     "metadata": {},
     "output_type": "execute_result"
    }
   ],
   "source": [
    "tt = df[df['Ano']>=2018]\n",
    "(tt['Votos_aptos']-tt['Votos_comparecimento']-tt['Votos_abstenções']).value_counts()"
   ]
  },
  {
   "cell_type": "code",
   "execution_count": 50,
   "metadata": {},
   "outputs": [
    {
     "data": {
      "text/html": [
       "<div>\n",
       "<style scoped>\n",
       "    .dataframe tbody tr th:only-of-type {\n",
       "        vertical-align: middle;\n",
       "    }\n",
       "\n",
       "    .dataframe tbody tr th {\n",
       "        vertical-align: top;\n",
       "    }\n",
       "\n",
       "    .dataframe thead th {\n",
       "        text-align: right;\n",
       "    }\n",
       "</style>\n",
       "<table border=\"1\" class=\"dataframe\">\n",
       "  <thead>\n",
       "    <tr style=\"text-align: right;\">\n",
       "      <th></th>\n",
       "      <th>Ano</th>\n",
       "      <th>Turno</th>\n",
       "      <th>Eleição_nome</th>\n",
       "      <th>UF</th>\n",
       "      <th>UE</th>\n",
       "      <th>Cargo</th>\n",
       "      <th>Município</th>\n",
       "      <th>Zona</th>\n",
       "      <th>Votos_aptos</th>\n",
       "      <th>Votos_comparecimento</th>\n",
       "      <th>Votos_abstenções</th>\n",
       "      <th>Votos_nominais</th>\n",
       "      <th>Votos_brancos</th>\n",
       "      <th>Votos_nulos</th>\n",
       "      <th>Votos_legenda</th>\n",
       "      <th>Votos_pendentes</th>\n",
       "      <th>Seção</th>\n",
       "    </tr>\n",
       "  </thead>\n",
       "  <tbody>\n",
       "  </tbody>\n",
       "</table>\n",
       "</div>"
      ],
      "text/plain": [
       "Empty DataFrame\n",
       "Columns: [Ano, Turno, Eleição_nome, UF, UE, Cargo, Município, Zona, Votos_aptos, Votos_comparecimento, Votos_abstenções, Votos_nominais, Votos_brancos, Votos_nulos, Votos_legenda, Votos_pendentes, Seção]\n",
       "Index: []"
      ]
     },
     "execution_count": 50,
     "metadata": {},
     "output_type": "execute_result"
    }
   ],
   "source": [
    "tt[(tt['Votos_aptos']-tt['Votos_comparecimento']-tt['Votos_abstenções'])!=0]"
   ]
  },
  {
   "cell_type": "code",
   "execution_count": 51,
   "metadata": {},
   "outputs": [
    {
     "data": {
      "text/plain": [
       "[-0.5773502691896261, 0.5773502691896257, 0.5773502691896253, 0, 0, 0, 0, 0]"
      ]
     },
     "execution_count": 51,
     "metadata": {},
     "output_type": "execute_result"
    }
   ],
   "source": [
    "[x if abs(x)>1e-3 else 0 for x in pca.components_[-1]]"
   ]
  },
  {
   "cell_type": "code",
   "execution_count": 58,
   "metadata": {},
   "outputs": [
    {
     "name": "stdout",
     "output_type": "stream",
     "text": [
      "['Votos_comparecimento', 'Votos_nominais', 'Votos_brancos', 'Votos_nulos', 'Votos_legenda']\n",
      "\n",
      "\n",
      "Variance_ratio: 0.00002\n",
      "+0.4470, -0.4469, -0.4475, -0.4469, -0.4477\n",
      "Variance_ratio: 0.00731\n",
      "-0.0298, +0.0360, -0.8358, +0.4208, +0.3495\n",
      "Variance_ratio: 0.00824\n",
      "-0.1536, +0.1779, -0.0558, +0.5353, -0.8094\n",
      "Variance_ratio: 0.05791\n",
      "+0.3993, -0.6284, +0.3083, +0.5742, +0.1446\n",
      "Variance_ratio: 0.92652\n",
      "-0.7850, -0.6103, -0.0553, -0.0832, -0.0363\n",
      "\n",
      "\n",
      "Variance_ratio: 0.00000\n",
      "0, 0, 0, 0, +1.0000\n",
      "Variance_ratio: 0.00650\n",
      "-0.0419, +0.0481, -0.9177, +0.3921, 0\n",
      "Variance_ratio: 0.05859\n",
      "+0.2600, -0.3864, +0.3203, +0.8249, 0\n",
      "Variance_ratio: 0.14144\n",
      "+0.8454, -0.3476, -0.2060, -0.3493, 0\n",
      "Variance_ratio: 0.79347\n",
      "+0.4647, +0.8530, +0.1129, +0.2093, 0\n"
     ]
    }
   ],
   "source": [
    "cols = [x for x in df.columns if 'Votos' in x and ('absten' not in x) and ('aptos' not in x) and ('pendente' not in x)]\n",
    "print(cols)\n",
    "print('\\n')\n",
    "pca.fit(df[(df['Ano']>=2018)&(df['Cargo'].isin([6,7,8]))][cols])\n",
    "for i in range(1,6):\n",
    "    print(\"Variance_ratio: {:.5f}\".format(pca.explained_variance_ratio_[-i]))\n",
    "    print(', '.join([\"{:+.4f}\".format(x) if abs(x)>1e-4 else \"0\" for x in pca.components_[-i]]))\n",
    "print('\\n')\n",
    "pca.fit(df[(df['Ano']>=2018)&~(df['Cargo'].isin([6,7,8]))][cols])\n",
    "for i in range(1,6):\n",
    "    print(\"Variance_ratio: {:.5f}\".format(pca.explained_variance_ratio_[-i]))\n",
    "    print(', '.join([\"{:+.4f}\".format(x) if abs(x)>1e-4 else \"0\" for x in pca.components_[-i]]))"
   ]
  },
  {
   "cell_type": "code",
   "execution_count": 22,
   "metadata": {},
   "outputs": [
    {
     "data": {
      "text/plain": [
       "0      3958398\n",
       "383          4\n",
       "363          4\n",
       "766          1\n",
       "726          1\n",
       "Name: Votos_pendentes, dtype: int64"
      ]
     },
     "execution_count": 22,
     "metadata": {},
     "output_type": "execute_result"
    }
   ],
   "source": []
  },
  {
   "cell_type": "code",
   "execution_count": 23,
   "metadata": {},
   "outputs": [
    {
     "data": {
      "text/html": [
       "<div>\n",
       "<style scoped>\n",
       "    .dataframe tbody tr th:only-of-type {\n",
       "        vertical-align: middle;\n",
       "    }\n",
       "\n",
       "    .dataframe tbody tr th {\n",
       "        vertical-align: top;\n",
       "    }\n",
       "\n",
       "    .dataframe thead th {\n",
       "        text-align: right;\n",
       "    }\n",
       "</style>\n",
       "<table border=\"1\" class=\"dataframe\">\n",
       "  <thead>\n",
       "    <tr style=\"text-align: right;\">\n",
       "      <th></th>\n",
       "      <th>Ano</th>\n",
       "      <th>Turno</th>\n",
       "      <th>Eleição_nome</th>\n",
       "      <th>UF</th>\n",
       "      <th>UE</th>\n",
       "      <th>Cargo</th>\n",
       "      <th>Município</th>\n",
       "      <th>Zona</th>\n",
       "      <th>Votos_aptos</th>\n",
       "      <th>Votos_comparecimento</th>\n",
       "      <th>Votos_abstenções</th>\n",
       "      <th>Votos_nominais</th>\n",
       "      <th>Votos_brancos</th>\n",
       "      <th>Votos_nulos</th>\n",
       "      <th>Votos_legenda</th>\n",
       "      <th>Votos_pendentes</th>\n",
       "      <th>Seção</th>\n",
       "    </tr>\n",
       "  </thead>\n",
       "  <tbody>\n",
       "    <tr>\n",
       "      <th>8281237</th>\n",
       "      <td>2018</td>\n",
       "      <td>1</td>\n",
       "      <td>ELEIÇÕES GERAIS ESTADUAIS 2018</td>\n",
       "      <td>BA</td>\n",
       "      <td>BA</td>\n",
       "      <td>5</td>\n",
       "      <td>38490</td>\n",
       "      <td>18</td>\n",
       "      <td>476</td>\n",
       "      <td>383</td>\n",
       "      <td>93</td>\n",
       "      <td>0</td>\n",
       "      <td>0</td>\n",
       "      <td>0</td>\n",
       "      <td>0</td>\n",
       "      <td>766</td>\n",
       "      <td>328</td>\n",
       "    </tr>\n",
       "    <tr>\n",
       "      <th>8305338</th>\n",
       "      <td>2018</td>\n",
       "      <td>1</td>\n",
       "      <td>ELEIÇÕES GERAIS ESTADUAIS 2018</td>\n",
       "      <td>BA</td>\n",
       "      <td>BA</td>\n",
       "      <td>3</td>\n",
       "      <td>38490</td>\n",
       "      <td>18</td>\n",
       "      <td>384</td>\n",
       "      <td>363</td>\n",
       "      <td>21</td>\n",
       "      <td>0</td>\n",
       "      <td>0</td>\n",
       "      <td>0</td>\n",
       "      <td>0</td>\n",
       "      <td>363</td>\n",
       "      <td>202</td>\n",
       "    </tr>\n",
       "    <tr>\n",
       "      <th>8308089</th>\n",
       "      <td>2018</td>\n",
       "      <td>1</td>\n",
       "      <td>ELEIÇÕES GERAIS ESTADUAIS 2018</td>\n",
       "      <td>BA</td>\n",
       "      <td>BA</td>\n",
       "      <td>7</td>\n",
       "      <td>38490</td>\n",
       "      <td>18</td>\n",
       "      <td>384</td>\n",
       "      <td>363</td>\n",
       "      <td>21</td>\n",
       "      <td>0</td>\n",
       "      <td>0</td>\n",
       "      <td>0</td>\n",
       "      <td>0</td>\n",
       "      <td>363</td>\n",
       "      <td>202</td>\n",
       "    </tr>\n",
       "    <tr>\n",
       "      <th>8313198</th>\n",
       "      <td>2018</td>\n",
       "      <td>1</td>\n",
       "      <td>ELEIÇÕES GERAIS ESTADUAIS 2018</td>\n",
       "      <td>BA</td>\n",
       "      <td>BA</td>\n",
       "      <td>3</td>\n",
       "      <td>38490</td>\n",
       "      <td>18</td>\n",
       "      <td>476</td>\n",
       "      <td>383</td>\n",
       "      <td>93</td>\n",
       "      <td>0</td>\n",
       "      <td>0</td>\n",
       "      <td>0</td>\n",
       "      <td>0</td>\n",
       "      <td>383</td>\n",
       "      <td>328</td>\n",
       "    </tr>\n",
       "    <tr>\n",
       "      <th>8315024</th>\n",
       "      <td>2018</td>\n",
       "      <td>1</td>\n",
       "      <td>ELEIÇÕES GERAIS ESTADUAIS 2018</td>\n",
       "      <td>BA</td>\n",
       "      <td>BA</td>\n",
       "      <td>6</td>\n",
       "      <td>38490</td>\n",
       "      <td>18</td>\n",
       "      <td>476</td>\n",
       "      <td>383</td>\n",
       "      <td>93</td>\n",
       "      <td>0</td>\n",
       "      <td>0</td>\n",
       "      <td>0</td>\n",
       "      <td>0</td>\n",
       "      <td>383</td>\n",
       "      <td>328</td>\n",
       "    </tr>\n",
       "    <tr>\n",
       "      <th>8322557</th>\n",
       "      <td>2018</td>\n",
       "      <td>1</td>\n",
       "      <td>ELEIÇÕES GERAIS ESTADUAIS 2018</td>\n",
       "      <td>BA</td>\n",
       "      <td>BA</td>\n",
       "      <td>5</td>\n",
       "      <td>38490</td>\n",
       "      <td>18</td>\n",
       "      <td>384</td>\n",
       "      <td>363</td>\n",
       "      <td>21</td>\n",
       "      <td>0</td>\n",
       "      <td>0</td>\n",
       "      <td>0</td>\n",
       "      <td>0</td>\n",
       "      <td>726</td>\n",
       "      <td>202</td>\n",
       "    </tr>\n",
       "    <tr>\n",
       "      <th>8360379</th>\n",
       "      <td>2018</td>\n",
       "      <td>1</td>\n",
       "      <td>ELEIÇÕES GERAIS ESTADUAIS 2018</td>\n",
       "      <td>BA</td>\n",
       "      <td>BA</td>\n",
       "      <td>6</td>\n",
       "      <td>38490</td>\n",
       "      <td>18</td>\n",
       "      <td>384</td>\n",
       "      <td>363</td>\n",
       "      <td>21</td>\n",
       "      <td>0</td>\n",
       "      <td>0</td>\n",
       "      <td>0</td>\n",
       "      <td>0</td>\n",
       "      <td>363</td>\n",
       "      <td>202</td>\n",
       "    </tr>\n",
       "    <tr>\n",
       "      <th>8369542</th>\n",
       "      <td>2018</td>\n",
       "      <td>1</td>\n",
       "      <td>ELEIÇÕES GERAIS ESTADUAIS 2018</td>\n",
       "      <td>BA</td>\n",
       "      <td>BA</td>\n",
       "      <td>7</td>\n",
       "      <td>38490</td>\n",
       "      <td>18</td>\n",
       "      <td>476</td>\n",
       "      <td>383</td>\n",
       "      <td>93</td>\n",
       "      <td>0</td>\n",
       "      <td>0</td>\n",
       "      <td>0</td>\n",
       "      <td>0</td>\n",
       "      <td>383</td>\n",
       "      <td>328</td>\n",
       "    </tr>\n",
       "    <tr>\n",
       "      <th>9069061</th>\n",
       "      <td>2018</td>\n",
       "      <td>1</td>\n",
       "      <td>ELEIÇÃO GERAL FEDERAL 2018</td>\n",
       "      <td>BA</td>\n",
       "      <td>BR</td>\n",
       "      <td>1</td>\n",
       "      <td>38490</td>\n",
       "      <td>18</td>\n",
       "      <td>476</td>\n",
       "      <td>383</td>\n",
       "      <td>93</td>\n",
       "      <td>0</td>\n",
       "      <td>0</td>\n",
       "      <td>0</td>\n",
       "      <td>0</td>\n",
       "      <td>383</td>\n",
       "      <td>328</td>\n",
       "    </tr>\n",
       "    <tr>\n",
       "      <th>9224210</th>\n",
       "      <td>2018</td>\n",
       "      <td>1</td>\n",
       "      <td>ELEIÇÃO GERAL FEDERAL 2018</td>\n",
       "      <td>BA</td>\n",
       "      <td>BR</td>\n",
       "      <td>1</td>\n",
       "      <td>38490</td>\n",
       "      <td>18</td>\n",
       "      <td>384</td>\n",
       "      <td>363</td>\n",
       "      <td>21</td>\n",
       "      <td>0</td>\n",
       "      <td>0</td>\n",
       "      <td>0</td>\n",
       "      <td>0</td>\n",
       "      <td>363</td>\n",
       "      <td>202</td>\n",
       "    </tr>\n",
       "  </tbody>\n",
       "</table>\n",
       "</div>"
      ],
      "text/plain": [
       "          Ano  Turno                    Eleição_nome  UF  UE  Cargo  \\\n",
       "8281237  2018      1  ELEIÇÕES GERAIS ESTADUAIS 2018  BA  BA      5   \n",
       "8305338  2018      1  ELEIÇÕES GERAIS ESTADUAIS 2018  BA  BA      3   \n",
       "8308089  2018      1  ELEIÇÕES GERAIS ESTADUAIS 2018  BA  BA      7   \n",
       "8313198  2018      1  ELEIÇÕES GERAIS ESTADUAIS 2018  BA  BA      3   \n",
       "8315024  2018      1  ELEIÇÕES GERAIS ESTADUAIS 2018  BA  BA      6   \n",
       "8322557  2018      1  ELEIÇÕES GERAIS ESTADUAIS 2018  BA  BA      5   \n",
       "8360379  2018      1  ELEIÇÕES GERAIS ESTADUAIS 2018  BA  BA      6   \n",
       "8369542  2018      1  ELEIÇÕES GERAIS ESTADUAIS 2018  BA  BA      7   \n",
       "9069061  2018      1      ELEIÇÃO GERAL FEDERAL 2018  BA  BR      1   \n",
       "9224210  2018      1      ELEIÇÃO GERAL FEDERAL 2018  BA  BR      1   \n",
       "\n",
       "         Município  Zona  Votos_aptos  Votos_comparecimento  Votos_abstenções  \\\n",
       "8281237      38490    18          476                   383                93   \n",
       "8305338      38490    18          384                   363                21   \n",
       "8308089      38490    18          384                   363                21   \n",
       "8313198      38490    18          476                   383                93   \n",
       "8315024      38490    18          476                   383                93   \n",
       "8322557      38490    18          384                   363                21   \n",
       "8360379      38490    18          384                   363                21   \n",
       "8369542      38490    18          476                   383                93   \n",
       "9069061      38490    18          476                   383                93   \n",
       "9224210      38490    18          384                   363                21   \n",
       "\n",
       "         Votos_nominais  Votos_brancos  Votos_nulos  Votos_legenda  \\\n",
       "8281237               0              0            0              0   \n",
       "8305338               0              0            0              0   \n",
       "8308089               0              0            0              0   \n",
       "8313198               0              0            0              0   \n",
       "8315024               0              0            0              0   \n",
       "8322557               0              0            0              0   \n",
       "8360379               0              0            0              0   \n",
       "8369542               0              0            0              0   \n",
       "9069061               0              0            0              0   \n",
       "9224210               0              0            0              0   \n",
       "\n",
       "         Votos_pendentes  Seção  \n",
       "8281237              766    328  \n",
       "8305338              363    202  \n",
       "8308089              363    202  \n",
       "8313198              383    328  \n",
       "8315024              383    328  \n",
       "8322557              726    202  \n",
       "8360379              363    202  \n",
       "8369542              383    328  \n",
       "9069061              383    328  \n",
       "9224210              363    202  "
      ]
     },
     "execution_count": 23,
     "metadata": {},
     "output_type": "execute_result"
    }
   ],
   "source": [
    "tt[(tt['Votos_pendentes'])!=0]"
   ]
  },
  {
   "cell_type": "code",
   "execution_count": 24,
   "metadata": {},
   "outputs": [
    {
     "data": {
      "text/plain": [
       "[-0.019388055763604,\n",
       " -0.03579775690060701,\n",
       " 0.016409701137002998,\n",
       " 0.054808873113231654,\n",
       " -0.5896127057909047,\n",
       " 0.2583944502993008,\n",
       " 0.7620093464153334,\n",
       " 0]"
      ]
     },
     "execution_count": 24,
     "metadata": {},
     "output_type": "execute_result"
    }
   ],
   "source": [
    "[x if abs(x)>1e-3 else 0 for x in pca.components_[-3]]"
   ]
  },
  {
   "cell_type": "code",
   "execution_count": 27,
   "metadata": {},
   "outputs": [
    {
     "data": {
      "text/plain": [
       " 0      8.853830e-01\n",
       "-285    8.920253e-04\n",
       "-284    8.854570e-04\n",
       "-295    8.831833e-04\n",
       "-286    8.816676e-04\n",
       "            ...     \n",
       "-452    2.526268e-07\n",
       "-10     2.526268e-07\n",
       "-2      2.526268e-07\n",
       "-448    2.526268e-07\n",
       "-3      2.526268e-07\n",
       "Length: 462, dtype: float64"
      ]
     },
     "execution_count": 27,
     "metadata": {},
     "output_type": "execute_result"
    }
   ],
   "source": [
    "(tt['Votos_comparecimento']-tt['Votos_nominais']-tt['Votos_brancos']-tt['Votos_nulos']-tt['Votos_legenda']).value_counts() / len(tt)"
   ]
  },
  {
   "cell_type": "code",
   "execution_count": 28,
   "metadata": {},
   "outputs": [
    {
     "data": {
      "text/plain": [
       "['Votos_aptos',\n",
       " 'Votos_comparecimento',\n",
       " 'Votos_abstenções',\n",
       " 'Votos_nominais',\n",
       " 'Votos_brancos',\n",
       " 'Votos_nulos',\n",
       " 'Votos_legenda',\n",
       " 'Votos_pendentes']"
      ]
     },
     "execution_count": 28,
     "metadata": {},
     "output_type": "execute_result"
    }
   ],
   "source": [
    "cols"
   ]
  },
  {
   "cell_type": "code",
   "execution_count": null,
   "metadata": {},
   "outputs": [],
   "source": [
    "pca_exla"
   ]
  }
 ],
 "metadata": {
  "kernelspec": {
   "display_name": "Python 3",
   "language": "python",
   "name": "python3"
  },
  "language_info": {
   "codemirror_mode": {
    "name": "ipython",
    "version": 3
   },
   "file_extension": ".py",
   "mimetype": "text/x-python",
   "name": "python",
   "nbconvert_exporter": "python",
   "pygments_lexer": "ipython3",
   "version": "3.6.8"
  }
 },
 "nbformat": 4,
 "nbformat_minor": 2
}
